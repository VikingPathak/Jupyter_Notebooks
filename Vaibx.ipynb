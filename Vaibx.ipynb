{
  "nbformat": 4,
  "nbformat_minor": 0,
  "metadata": {
    "colab": {
      "provenance": [],
      "authorship_tag": "ABX9TyPrxqv1tu0vQheEXmC9G6wA",
      "include_colab_link": true
    },
    "kernelspec": {
      "name": "python3",
      "display_name": "Python 3"
    },
    "language_info": {
      "name": "python"
    }
  },
  "cells": [
    {
      "cell_type": "markdown",
      "metadata": {
        "id": "view-in-github",
        "colab_type": "text"
      },
      "source": [
        "<a href=\"https://colab.research.google.com/github/VikingPathak/Jupyter_Notebooks/blob/main/Vaibx.ipynb\" target=\"_parent\"><img src=\"https://colab.research.google.com/assets/colab-badge.svg\" alt=\"Open In Colab\"/></a>"
      ]
    },
    {
      "cell_type": "code",
      "execution_count": null,
      "metadata": {
        "id": "pEmAzRhC9mLT"
      },
      "outputs": [],
      "source": [
        "# Hello"
      ]
    },
    {
      "cell_type": "code",
      "source": [
        "players = {\n",
        "    'Vaibhav': [40, 45, 48],\n",
        "    'Amit': [42, 45, 49]\n",
        "}"
      ],
      "metadata": {
        "id": "BlNaxTXN-IEx"
      },
      "execution_count": null,
      "outputs": []
    },
    {
      "cell_type": "code",
      "source": [
        "{\n",
        "    'Vabhav': {\n",
        "        'Average': 80,\n",
        "        'Sum': 40\n",
        "    }\n",
        "}"
      ],
      "metadata": {
        "colab": {
          "base_uri": "https://localhost:8080/"
        },
        "id": "IkqBHR_9-i_p",
        "outputId": "77ded077-48f4-4a0f-d8da-d9fa8e73f7eb"
      },
      "execution_count": null,
      "outputs": [
        {
          "output_type": "execute_result",
          "data": {
            "text/plain": [
              "{'Vaibhav': [40, 45, 48], 'Amit': [42, 45, 49]}"
            ]
          },
          "metadata": {},
          "execution_count": 9
        }
      ]
    },
    {
      "cell_type": "code",
      "source": [
        "result = {}\n",
        "\n",
        "for key, val in players.items():\n",
        "    avg_score = round(sum(val)/len(val), 3)\n",
        "    result[key] = {'Total Score': sum(val), 'Average Score': avg_score}"
      ],
      "metadata": {
        "id": "UqP3W0VP-kYP"
      },
      "execution_count": null,
      "outputs": []
    },
    {
      "cell_type": "code",
      "source": [
        "result"
      ],
      "metadata": {
        "colab": {
          "base_uri": "https://localhost:8080/"
        },
        "id": "LJ_27W4z-urc",
        "outputId": "2b415a38-e9a7-433e-8cd9-0880e5f76c70"
      },
      "execution_count": null,
      "outputs": [
        {
          "output_type": "execute_result",
          "data": {
            "text/plain": [
              "{'Vaibhav': {'Total Score': 133, 'Average Score': 44.333},\n",
              " 'Amit': {'Total Score': 136, 'Average Score': 45.333}}"
            ]
          },
          "metadata": {},
          "execution_count": 21
        }
      ]
    },
    {
      "cell_type": "code",
      "source": [
        "alphabets_L = 'abcdefghijklmnopqrstuvwxyz'\n",
        "alphabets_U = alphabets_L.upper()\n",
        "\n",
        "def encode(text, shift):\n",
        "\n",
        "    text = list(text)\n",
        "    result = ''\n",
        "    for char in text:\n",
        "        if (char not in alphabets_L) and (char not in alphabets_U):\n",
        "            result += char\n",
        "            continue\n",
        "\n",
        "        if char in alphabets_L:\n",
        "            alphabets = alphabets_L\n",
        "        else:\n",
        "            alphabets = alphabets_U\n",
        "\n",
        "        curr_index = alphabets.index(char)\n",
        "        new_index = curr_index + shift\n",
        "        if new_index > 25:\n",
        "            new_index = new_index - 26\n",
        "\n",
        "        encoded_char = alphabets[new_index]\n",
        "        result += encoded_char\n",
        "    return result\n",
        "\n",
        "def decode(text, shift):\n",
        "\n",
        "    text = list(text)\n",
        "    result = ''\n",
        "    for char in text:\n",
        "        if (char not in alphabets_L) and (char not in alphabets_U):\n",
        "            result += char\n",
        "            continue\n",
        "\n",
        "        if char in alphabets_L:\n",
        "            alphabets = alphabets_L\n",
        "        else:\n",
        "            alphabets = alphabets_U\n",
        "\n",
        "        curr_index = alphabets.index(char)\n",
        "        new_index = curr_index - shift\n",
        "        if new_index < 0:\n",
        "            new_index = new_index + 26\n",
        "\n",
        "        encoded_char = alphabets[new_index]\n",
        "        result += encoded_char\n",
        "    return result"
      ],
      "metadata": {
        "id": "SWAxEhfp-wNp"
      },
      "execution_count": null,
      "outputs": []
    },
    {
      "cell_type": "code",
      "source": [
        "encode('Hello,World', 5), decode('Mjqqt,Btwqi', 5)"
      ],
      "metadata": {
        "colab": {
          "base_uri": "https://localhost:8080/"
        },
        "id": "wIhFliykAo-3",
        "outputId": "96eaceb6-bb5a-43ff-b538-d09da9d4f817"
      },
      "execution_count": null,
      "outputs": [
        {
          "output_type": "execute_result",
          "data": {
            "text/plain": [
              "('Mjqqt,Btwqi', 'Hello,World')"
            ]
          },
          "metadata": {},
          "execution_count": 65
        }
      ]
    },
    {
      "cell_type": "code",
      "source": [],
      "metadata": {
        "colab": {
          "base_uri": "https://localhost:8080/",
          "height": 35
        },
        "id": "a1dIJ5OQAqb6",
        "outputId": "15919bd4-b1b0-405f-cb3b-a49aeb7a2efc"
      },
      "execution_count": null,
      "outputs": [
        {
          "output_type": "execute_result",
          "data": {
            "text/plain": [
              "'abcdefghijklmnopqrstuvwxyz'"
            ],
            "application/vnd.google.colaboratory.intrinsic+json": {
              "type": "string"
            }
          },
          "metadata": {},
          "execution_count": 35
        }
      ]
    },
    {
      "cell_type": "code",
      "source": [
        "d = {'Green': 1, 'Blue': 2, 'Apple': 3}\n",
        "\n",
        "sorted_keys = sorted(list(d.keys()))\n",
        "\n",
        "sorted_keys"
      ],
      "metadata": {
        "colab": {
          "base_uri": "https://localhost:8080/"
        },
        "id": "Yu5U3zAxB3Vc",
        "outputId": "72ff62b7-7423-4c2c-acb6-e46d28e7dbfd"
      },
      "execution_count": null,
      "outputs": [
        {
          "output_type": "execute_result",
          "data": {
            "text/plain": [
              "['Apple', 'Blue', 'Green']"
            ]
          },
          "metadata": {},
          "execution_count": 73
        }
      ]
    },
    {
      "cell_type": "code",
      "source": [
        "result = {}\n",
        "\n",
        "for key in sorted_keys:\n",
        "  result[key] = d[key]"
      ],
      "metadata": {
        "id": "lZ-ItciNINoC"
      },
      "execution_count": null,
      "outputs": []
    },
    {
      "cell_type": "code",
      "source": [
        "result"
      ],
      "metadata": {
        "colab": {
          "base_uri": "https://localhost:8080/"
        },
        "id": "1qmM0XhqIjn_",
        "outputId": "41788ed2-93c3-4296-cea0-a543e0e1f51c"
      },
      "execution_count": null,
      "outputs": [
        {
          "output_type": "execute_result",
          "data": {
            "text/plain": [
              "{'Apple': 3, 'Blue': 2, 'Green': 1}"
            ]
          },
          "metadata": {},
          "execution_count": 75
        }
      ]
    },
    {
      "cell_type": "code",
      "source": [
        "mat = [[1,2],[3,4],[5,6]]\n",
        "\n",
        "nrows = len(mat) # 3\n",
        "ncols = len(mat[0]) # 2\n",
        "\n",
        "res_mat = [[0 for _ in range(nrows)] for _ in range(ncols)]"
      ],
      "metadata": {
        "id": "jTSy1XZiIkiV"
      },
      "execution_count": null,
      "outputs": []
    },
    {
      "cell_type": "code",
      "source": [
        "res_mat"
      ],
      "metadata": {
        "colab": {
          "base_uri": "https://localhost:8080/"
        },
        "id": "-H8gOmzbMI5q",
        "outputId": "34a69d85-91a9-479f-c0f7-2c207adc3286"
      },
      "execution_count": null,
      "outputs": [
        {
          "output_type": "execute_result",
          "data": {
            "text/plain": [
              "[[0, 0, 0], [0, 0, 0]]"
            ]
          },
          "metadata": {},
          "execution_count": 103
        }
      ]
    },
    {
      "cell_type": "code",
      "source": [
        "for i in range(nrows):\n",
        "    for j in range(ncols):\n",
        "        res_mat[j][i] = mat[i][j]"
      ],
      "metadata": {
        "id": "SMGhUQPlKGDb"
      },
      "execution_count": null,
      "outputs": []
    },
    {
      "cell_type": "code",
      "source": [
        "res_mat"
      ],
      "metadata": {
        "colab": {
          "base_uri": "https://localhost:8080/"
        },
        "id": "q9JWutQFKG-4",
        "outputId": "96436c8d-360e-4680-91dd-567cc8601086"
      },
      "execution_count": null,
      "outputs": [
        {
          "output_type": "execute_result",
          "data": {
            "text/plain": [
              "[[1, 3, 5], [2, 4, 6]]"
            ]
          },
          "metadata": {},
          "execution_count": 105
        }
      ]
    },
    {
      "cell_type": "code",
      "source": [
        "range(nrows)"
      ],
      "metadata": {
        "colab": {
          "base_uri": "https://localhost:8080/"
        },
        "id": "D7n5BsQQLKaw",
        "outputId": "a31d7b15-247f-4b3d-882e-63070eae80e6"
      },
      "execution_count": null,
      "outputs": [
        {
          "output_type": "execute_result",
          "data": {
            "text/plain": [
              "range(0, 3)"
            ]
          },
          "metadata": {},
          "execution_count": 93
        }
      ]
    },
    {
      "cell_type": "code",
      "source": [
        "n = 10\n",
        "lambda n: all(x%y != 0 for x in range(2, n+1) for y in range(2, n + 1))"
      ],
      "metadata": {
        "colab": {
          "base_uri": "https://localhost:8080/"
        },
        "id": "iIpty_bWLSNi",
        "outputId": "af54a426-4576-4b79-fbf1-84f201f3ae1c"
      },
      "execution_count": null,
      "outputs": [
        {
          "output_type": "execute_result",
          "data": {
            "text/plain": [
              "<function __main__.<lambda>(n)>"
            ]
          },
          "metadata": {},
          "execution_count": 108
        }
      ]
    },
    {
      "cell_type": "code",
      "source": [
        "n = int(input('Enter an integer value: '))\n",
        "num1 = 1\n",
        "num2 = 2\n",
        "count = 2\n",
        "\n",
        "if n <= 0:\n",
        "    print('Invalid hai')\n",
        "elif n == 1:\n",
        "    print(num1, end = \" \")\n",
        "elif n == 2:\n",
        "    print(num1, num2, end = \" \")\n",
        "else:\n",
        "    print(num1, num2, end = \" \")\n",
        "    while count <= n - 1:\n",
        "        next_number = num1 + num2\n",
        "        print(next_number, end = \" \")\n",
        "        num1, num2 = num2, next_number\n",
        "        count += 1"
      ],
      "metadata": {
        "colab": {
          "base_uri": "https://localhost:8080/"
        },
        "id": "J0AEc5S9Psh1",
        "outputId": "eb4dd619-aa71-4fc7-eb1f-c1046f80b394"
      },
      "execution_count": null,
      "outputs": [
        {
          "output_type": "stream",
          "name": "stdout",
          "text": [
            "Enter an integer value: 10\n",
            "1 2 3 5 8 13 21 34 55 89 "
          ]
        }
      ]
    },
    {
      "cell_type": "code",
      "source": [
        "text = 'agRA is a CiTy'\n",
        "result = ''\n",
        "\n",
        "for char in text:\n",
        "    if char in ['a', 'A']:\n",
        "        char.swapcase()"
      ],
      "metadata": {
        "colab": {
          "base_uri": "https://localhost:8080/",
          "height": 179
        },
        "id": "7RsWCIYnR-jz",
        "outputId": "00418f04-efe1-4607-fd90-7b37f6193d6c"
      },
      "execution_count": null,
      "outputs": [
        {
          "output_type": "error",
          "ename": "TypeError",
          "evalue": "ignored",
          "traceback": [
            "\u001b[0;31m---------------------------------------------------------------------------\u001b[0m",
            "\u001b[0;31mTypeError\u001b[0m                                 Traceback (most recent call last)",
            "\u001b[0;32m<ipython-input-139-616c588c5b7f>\u001b[0m in \u001b[0;36m<cell line: 1>\u001b[0;34m()\u001b[0m\n\u001b[0;32m----> 1\u001b[0;31m \u001b[0;34m'agRA is a CiTy'\u001b[0m\u001b[0;34m.\u001b[0m\u001b[0mswapcase\u001b[0m\u001b[0;34m(\u001b[0m\u001b[0;34m'a'\u001b[0m\u001b[0;34m)\u001b[0m\u001b[0;34m\u001b[0m\u001b[0;34m\u001b[0m\u001b[0m\n\u001b[0m",
            "\u001b[0;31mTypeError\u001b[0m: str.swapcase() takes no arguments (1 given)"
          ]
        }
      ]
    },
    {
      "cell_type": "code",
      "source": [
        "t = 'how do i look. i am a nice guy'\n",
        "\n",
        "t = t.capitalize()\n",
        "print(t)\n",
        "t = t.replace(' i ', ' I ')\n",
        "\n",
        "t"
      ],
      "metadata": {
        "colab": {
          "base_uri": "https://localhost:8080/",
          "height": 53
        },
        "id": "bIEPuHyMUhEW",
        "outputId": "2ba5f406-9b1d-4a6a-a809-76d995030af4"
      },
      "execution_count": null,
      "outputs": [
        {
          "output_type": "stream",
          "name": "stdout",
          "text": [
            "How do i look. i am a nice guy\n"
          ]
        },
        {
          "output_type": "execute_result",
          "data": {
            "text/plain": [
              "'How do I look. I am a nice guy'"
            ],
            "application/vnd.google.colaboratory.intrinsic+json": {
              "type": "string"
            }
          },
          "metadata": {},
          "execution_count": 148
        }
      ]
    },
    {
      "cell_type": "code",
      "source": [
        "s=input(\"Enter the string to be modified: \")\n",
        "s_temp=\"\"\n",
        "for i in s.split():\n",
        "  if i==\"i\":\n",
        "    i=i.upper()\n",
        "  s_temp = s_temp + \" \" + i\n",
        "\n",
        "s_temp = s_temp[1].upper() + s_temp[2:]\n",
        "print(s_temp)"
      ],
      "metadata": {
        "colab": {
          "base_uri": "https://localhost:8080/"
        },
        "id": "3cTf2qKUVVFu",
        "outputId": "2768f3d8-7a2f-4ac8-adab-c2d4175beb2c"
      },
      "execution_count": null,
      "outputs": [
        {
          "output_type": "stream",
          "name": "stdout",
          "text": [
            "Enter the string to be modified: how do i look\n",
            "How do I look\n"
          ]
        }
      ]
    },
    {
      "cell_type": "code",
      "source": [
        "s_temp[0].upper()"
      ],
      "metadata": {
        "colab": {
          "base_uri": "https://localhost:8080/",
          "height": 35
        },
        "id": "Fh4RKNZsWNcz",
        "outputId": "37899408-fec6-460d-d19e-22127d675a28"
      },
      "execution_count": null,
      "outputs": [
        {
          "output_type": "execute_result",
          "data": {
            "text/plain": [
              "' '"
            ],
            "application/vnd.google.colaboratory.intrinsic+json": {
              "type": "string"
            }
          },
          "metadata": {},
          "execution_count": 153
        }
      ]
    },
    {
      "cell_type": "code",
      "source": [
        "nums = range(2, 100)\n",
        "\n",
        "for x in range(10):\n",
        "   nums = filter(lambda x: x == i or x%i, nums)\n",
        "print()"
      ],
      "metadata": {
        "colab": {
          "base_uri": "https://localhost:8080/",
          "height": 215
        },
        "id": "nh5K-xP6WxqO",
        "outputId": "00ebe194-1ea2-4627-af89-25521ddfcd3f"
      },
      "execution_count": null,
      "outputs": [
        {
          "output_type": "error",
          "ename": "AttributeError",
          "evalue": "ignored",
          "traceback": [
            "\u001b[0;31m---------------------------------------------------------------------------\u001b[0m",
            "\u001b[0;31mAttributeError\u001b[0m                            Traceback (most recent call last)",
            "\u001b[0;32m<ipython-input-162-b05cedde82f5>\u001b[0m in \u001b[0;36m<cell line: 5>\u001b[0;34m()\u001b[0m\n\u001b[1;32m      3\u001b[0m \u001b[0;32mfor\u001b[0m \u001b[0mx\u001b[0m \u001b[0;32min\u001b[0m \u001b[0mrange\u001b[0m\u001b[0;34m(\u001b[0m\u001b[0;36m10\u001b[0m\u001b[0;34m)\u001b[0m\u001b[0;34m:\u001b[0m\u001b[0;34m\u001b[0m\u001b[0;34m\u001b[0m\u001b[0m\n\u001b[1;32m      4\u001b[0m    \u001b[0mnums\u001b[0m \u001b[0;34m=\u001b[0m \u001b[0mfilter\u001b[0m\u001b[0;34m(\u001b[0m\u001b[0;32mlambda\u001b[0m \u001b[0mx\u001b[0m\u001b[0;34m:\u001b[0m \u001b[0mx\u001b[0m \u001b[0;34m==\u001b[0m \u001b[0mi\u001b[0m \u001b[0;32mor\u001b[0m \u001b[0mx\u001b[0m\u001b[0;34m%\u001b[0m\u001b[0mi\u001b[0m\u001b[0;34m,\u001b[0m \u001b[0mnums\u001b[0m\u001b[0;34m)\u001b[0m\u001b[0;34m\u001b[0m\u001b[0;34m\u001b[0m\u001b[0m\n\u001b[0;32m----> 5\u001b[0;31m \u001b[0mprint\u001b[0m\u001b[0;34m(\u001b[0m\u001b[0mnums\u001b[0m\u001b[0;34m.\u001b[0m\u001b[0mstart\u001b[0m\u001b[0;34m)\u001b[0m\u001b[0;34m\u001b[0m\u001b[0;34m\u001b[0m\u001b[0m\n\u001b[0m",
            "\u001b[0;31mAttributeError\u001b[0m: 'filter' object has no attribute 'start'"
          ]
        }
      ]
    },
    {
      "cell_type": "code",
      "source": [
        "a = [1, 3, 9, 5, 6, 2, 4]\n",
        "\n",
        "result = []\n",
        "\n",
        "for i in range(1, len(a)):\n",
        "    if a[i - 1]**2 == a[i]:\n",
        "        result.append(a[i - 1])\n",
        "\n",
        "result"
      ],
      "metadata": {
        "colab": {
          "base_uri": "https://localhost:8080/"
        },
        "id": "73JK-DSfYmzP",
        "outputId": "ab2233bf-2baf-44b5-c5aa-ad3bf0f55caa"
      },
      "execution_count": null,
      "outputs": [
        {
          "output_type": "execute_result",
          "data": {
            "text/plain": [
              "[3, 2]"
            ]
          },
          "metadata": {},
          "execution_count": 170
        }
      ]
    },
    {
      "cell_type": "code",
      "source": [
        "for i in a:\n",
        "  print(i)"
      ],
      "metadata": {
        "colab": {
          "base_uri": "https://localhost:8080/"
        },
        "id": "GAjXp9v_Z1x9",
        "outputId": "b2bce8a1-18da-4375-e213-02b4752e5032"
      },
      "execution_count": null,
      "outputs": [
        {
          "output_type": "stream",
          "name": "stdout",
          "text": [
            "1\n",
            "3\n",
            "9\n",
            "5\n",
            "6\n",
            "2\n",
            "4\n"
          ]
        }
      ]
    },
    {
      "cell_type": "code",
      "source": [
        "for i in range(len(a)):\n",
        "  print(i, a[i])"
      ],
      "metadata": {
        "colab": {
          "base_uri": "https://localhost:8080/"
        },
        "id": "YEjg2jfSbRC-",
        "outputId": "35afdf35-b1d7-4416-efd0-9df684143834"
      },
      "execution_count": null,
      "outputs": [
        {
          "output_type": "stream",
          "name": "stdout",
          "text": [
            "0 1\n",
            "1 3\n",
            "2 9\n",
            "3 5\n",
            "4 6\n",
            "5 2\n",
            "6 4\n"
          ]
        }
      ]
    },
    {
      "cell_type": "code",
      "source": [
        "vowels = 'aeiou'\n",
        "\n",
        "S = 'your article is in queue'\n",
        "\n",
        "res = S[0]\n",
        "\n",
        "for i in range(1, len(S)):\n",
        "    if S[i-1] in vowels and S[i] in vowels:\n",
        "        pass\n",
        "    else:\n",
        "        res += S[i]\n",
        "\n",
        "res"
      ],
      "metadata": {
        "colab": {
          "base_uri": "https://localhost:8080/",
          "height": 35
        },
        "id": "3JznrPRKbVbn",
        "outputId": "6e0f2505-f2e9-48fb-8c15-754e92a779bd"
      },
      "execution_count": null,
      "outputs": [
        {
          "output_type": "execute_result",
          "data": {
            "text/plain": [
              "'yor article is in qu'"
            ],
            "application/vnd.google.colaboratory.intrinsic+json": {
              "type": "string"
            }
          },
          "metadata": {},
          "execution_count": 178
        }
      ]
    },
    {
      "cell_type": "code",
      "source": [],
      "metadata": {
        "id": "aJKKB_ZUduWM"
      },
      "execution_count": null,
      "outputs": []
    }
  ]
}